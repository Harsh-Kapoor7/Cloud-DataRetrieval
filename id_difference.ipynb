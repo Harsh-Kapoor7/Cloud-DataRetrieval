{
 "cells": [
  {
   "cell_type": "code",
   "execution_count": 39,
   "metadata": {},
   "outputs": [
    {
     "name": "stdout",
     "output_type": "stream",
     "text": [
      "4984\n",
      "3101\n",
      "1883\n"
     ]
    }
   ],
   "source": [
    "!gsutil ls gs://dubpro-ai-data/youtube_data/ | wc -l\n",
    "!gsutil ls gs://dubpro-ai-data/trimmed_youtube_audio/ | wc -l\n",
    "\n",
    "print(4984-3101)"
   ]
  },
  {
   "cell_type": "code",
   "execution_count": 132,
   "metadata": {},
   "outputs": [],
   "source": [
    "with open('youtube_data_filenames.txt') as fd:\n",
    "    yt_data = fd.read().split()\n",
    "\n",
    "with open('youtube_trimmed_filenames.txt') as fd:\n",
    "    yt_tr_data = fd.read().split()\n",
    "\n"
   ]
  },
  {
   "cell_type": "code",
   "execution_count": 134,
   "metadata": {},
   "outputs": [
    {
     "data": {
      "text/plain": [
       "2236"
      ]
     },
     "execution_count": 134,
     "metadata": {},
     "output_type": "execute_result"
    }
   ],
   "source": [
    "yt_data_ids = set()\n",
    "for entry in yt_data:\n",
    "    yt_data_ids.add(entry.split('/')[-2])\n",
    "\n",
    "yt_tr_data_ids = set()\n",
    "for entry in yt_tr_data:\n",
    "    yt_tr_data_ids.add(entry.split('/')[-2])\n",
    "\n",
    "# Calculate difference\n",
    "diff = yt_data_ids - yt_tr_data_ids\n",
    "# len(yt_data_ids), len(yt_tr_data_ids)\n",
    "len(diff)"
   ]
  },
  {
   "cell_type": "code",
   "execution_count": 133,
   "metadata": {},
   "outputs": [
    {
     "data": {
      "text/plain": [
       "2236"
      ]
     },
     "execution_count": 133,
     "metadata": {},
     "output_type": "execute_result"
    }
   ],
   "source": [
    "yt_data_ids = {entry.split('/')[-2] for entry in yt_data}\n",
    "yt_tr_data_ids = {entry.split('/')[-2] for entry in yt_tr_data}\n",
    "\n",
    "len(yt_data_ids - yt_tr_data_ids)"
   ]
  },
  {
   "cell_type": "code",
   "execution_count": 135,
   "metadata": {},
   "outputs": [],
   "source": [
    "with open('id_diff.txt', 'w') as fd:\n",
    "    for item in diff:\n",
    "        fd.write(item + '\\n')"
   ]
  },
  {
   "cell_type": "code",
   "execution_count": null,
   "metadata": {},
   "outputs": [],
   "source": []
  },
  {
   "cell_type": "code",
   "execution_count": null,
   "metadata": {},
   "outputs": [],
   "source": []
  },
  {
   "cell_type": "code",
   "execution_count": 64,
   "metadata": {},
   "outputs": [
    {
     "data": {
      "text/plain": [
       "2236"
      ]
     },
     "execution_count": 64,
     "metadata": {},
     "output_type": "execute_result"
    }
   ],
   "source": [
    "lst = []\n",
    "for entry in yt_data:\n",
    "    id = entry.split('/')[-2]\n",
    "    if id not in [entry.split('/')[-2] for entry in yt_tr_data]:\n",
    "        lst.append(id)\n",
    "len(lst)"
   ]
  },
  {
   "cell_type": "code",
   "execution_count": 93,
   "metadata": {},
   "outputs": [
    {
     "data": {
      "text/plain": [
       "['gs://dubpro-ai-data/trimmed_youtube_audio/-1IpqxyE-tY/',\n",
       " 'gs://dubpro-ai-data/trimmed_youtube_audio/-3vxz5PMShE/',\n",
       " 'gs://dubpro-ai-data/trimmed_youtube_audio/-5BfNtUqpMk/',\n",
       " 'gs://dubpro-ai-data/trimmed_youtube_audio/-DV5b6HDcqI/',\n",
       " 'gs://dubpro-ai-data/trimmed_youtube_audio/-Et_wALXXhE/']"
      ]
     },
     "execution_count": 93,
     "metadata": {},
     "output_type": "execute_result"
    }
   ],
   "source": [
    "yt_tr_data[:5]"
   ]
  },
  {
   "cell_type": "code",
   "execution_count": 94,
   "metadata": {},
   "outputs": [
    {
     "data": {
      "text/plain": [
       "['gs://dubpro-ai-data/youtube_data/--M8DKL-Vsw/',\n",
       " 'gs://dubpro-ai-data/youtube_data/-0eqyJdZozY/',\n",
       " 'gs://dubpro-ai-data/youtube_data/-1IpqxyE-tY/',\n",
       " 'gs://dubpro-ai-data/youtube_data/-2-OnSsmvRI/',\n",
       " 'gs://dubpro-ai-data/youtube_data/-2u3lHMoJK4/']"
      ]
     },
     "execution_count": 94,
     "metadata": {},
     "output_type": "execute_result"
    }
   ],
   "source": [
    "yt_data[:5]"
   ]
  },
  {
   "cell_type": "code",
   "execution_count": null,
   "metadata": {},
   "outputs": [],
   "source": []
  },
  {
   "cell_type": "code",
   "execution_count": null,
   "metadata": {},
   "outputs": [],
   "source": []
  },
  {
   "cell_type": "code",
   "execution_count": null,
   "metadata": {},
   "outputs": [],
   "source": []
  },
  {
   "cell_type": "code",
   "execution_count": null,
   "metadata": {},
   "outputs": [],
   "source": []
  },
  {
   "cell_type": "code",
   "execution_count": null,
   "metadata": {},
   "outputs": [],
   "source": []
  },
  {
   "cell_type": "code",
   "execution_count": null,
   "metadata": {},
   "outputs": [],
   "source": []
  },
  {
   "cell_type": "code",
   "execution_count": null,
   "metadata": {},
   "outputs": [],
   "source": []
  },
  {
   "cell_type": "code",
   "execution_count": null,
   "metadata": {},
   "outputs": [],
   "source": []
  },
  {
   "cell_type": "code",
   "execution_count": null,
   "metadata": {},
   "outputs": [],
   "source": []
  },
  {
   "cell_type": "code",
   "execution_count": null,
   "metadata": {},
   "outputs": [],
   "source": []
  },
  {
   "cell_type": "code",
   "execution_count": null,
   "metadata": {},
   "outputs": [],
   "source": []
  },
  {
   "cell_type": "code",
   "execution_count": null,
   "metadata": {},
   "outputs": [],
   "source": []
  },
  {
   "cell_type": "code",
   "execution_count": null,
   "metadata": {},
   "outputs": [],
   "source": []
  },
  {
   "cell_type": "code",
   "execution_count": 67,
   "metadata": {},
   "outputs": [
    {
     "data": {
      "text/plain": [
       "2236"
      ]
     },
     "execution_count": 67,
     "metadata": {},
     "output_type": "execute_result"
    }
   ],
   "source": [
    "lst = []\n",
    "for yt_entry in yt_data:\n",
    "    yt_id = yt_entry.split('/')[-2]\n",
    "    # Extract video IDs from yt_tr_data\n",
    "    yt_tr_ids = [tr_entry.split('/')[-2] for tr_entry in yt_tr_data]\n",
    "    if yt_id not in yt_tr_ids:\n",
    "        lst.append(yt_id)\n",
    "len(lst)\n"
   ]
  },
  {
   "cell_type": "code",
   "execution_count": null,
   "metadata": {},
   "outputs": [],
   "source": []
  },
  {
   "cell_type": "code",
   "execution_count": null,
   "metadata": {},
   "outputs": [],
   "source": []
  }
 ],
 "metadata": {
  "kernelspec": {
   "display_name": "env",
   "language": "python",
   "name": "python3"
  },
  "language_info": {
   "codemirror_mode": {
    "name": "ipython",
    "version": 3
   },
   "file_extension": ".py",
   "mimetype": "text/x-python",
   "name": "python",
   "nbconvert_exporter": "python",
   "pygments_lexer": "ipython3",
   "version": "3.10.14"
  }
 },
 "nbformat": 4,
 "nbformat_minor": 2
}
