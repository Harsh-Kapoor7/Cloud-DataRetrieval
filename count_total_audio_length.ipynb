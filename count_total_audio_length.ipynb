{
 "cells": [
  {
   "cell_type": "code",
   "execution_count": 1,
   "metadata": {},
   "outputs": [
    {
     "name": "stdout",
     "output_type": "stream",
     "text": [
      "4984\n"
     ]
    }
   ],
   "source": [
    "!gsutil ls gs://dubpro-ai-data/youtube_data/ | wc -l"
   ]
  },
  {
   "cell_type": "code",
   "execution_count": 1,
   "metadata": {},
   "outputs": [
    {
     "name": "stderr",
     "output_type": "stream",
     "text": [
      "/home/harsh/miniconda3/envs/env/lib/python3.10/site-packages/google/auth/_default.py:76: UserWarning: Your application has authenticated using end user credentials from Google Cloud SDK without a quota project. You might receive a \"quota exceeded\" or \"API not enabled\" error. See the following page for troubleshooting: https://cloud.google.com/docs/authentication/adc-troubleshooting/user-creds. \n",
      "  warnings.warn(_CLOUD_SDK_CREDENTIALS_WARNING)\n",
      "/home/harsh/miniconda3/envs/env/lib/python3.10/site-packages/google/auth/_default.py:76: UserWarning: Your application has authenticated using end user credentials from Google Cloud SDK without a quota project. You might receive a \"quota exceeded\" or \"API not enabled\" error. See the following page for troubleshooting: https://cloud.google.com/docs/authentication/adc-troubleshooting/user-creds. \n",
      "  warnings.warn(_CLOUD_SDK_CREDENTIALS_WARNING)\n",
      "9968it [06:53, 24.13it/s]\n"
     ]
    }
   ],
   "source": [
    "import os\n",
    "from tqdm import tqdm\n",
    "from google.cloud import storage\n",
    "\n",
    "def download_json_files(bucket_name, folder_prefix, type, download_directory):\n",
    "    client = storage.Client()\n",
    "    bucket = client.get_bucket(bucket_name)\n",
    "    blobs = bucket.list_blobs(prefix = folder_prefix)\n",
    "\n",
    "    for blob in tqdm(blobs):\n",
    "        file_id = os.path.basename(blob.name)\n",
    "        if file_id.endswith(type):\n",
    "            file_path = os.path.join(download_directory, file_id)\n",
    "            blob.download_to_filename(file_path)\n",
    "            \n",
    "\n",
    "# Define the arguments\n",
    "bucket_name = \"dubpro-ai-data\"\n",
    "folder_prefix = \"youtube_data/\"\n",
    "type = '.json'\n",
    "download_directory = \"/home/harsh/Documents/audio_trimming/json_files\"\n",
    "# Call the function\n",
    "download_json_files(bucket_name, folder_prefix, type, download_directory)"
   ]
  },
  {
   "cell_type": "code",
   "execution_count": 20,
   "metadata": {},
   "outputs": [
    {
     "data": {
      "text/plain": [
       "1336535.9899999974"
      ]
     },
     "execution_count": 20,
     "metadata": {},
     "output_type": "execute_result"
    }
   ],
   "source": [
    "import os\n",
    "import json\n",
    "\n",
    "directory_path = '/home/harsh/Documents/audio_trimming/json_files'\n",
    "\n",
    "with open('id_diff.txt') as fd:\n",
    "    data = fd.read().splitlines()\n",
    "\n",
    "# Iterate over each file in the directory\n",
    "final_sum = 0\n",
    "for file_name in data:\n",
    "    file_path = os.path.join(directory_path, file_name + '.json')\n",
    "    with open(file_path, 'r') as fd:\n",
    "        data = json.load(fd)\n",
    "        final_sum += sum(d[\"duration\"] for d in data)\n",
    "final_sum"
   ]
  },
  {
   "cell_type": "code",
   "execution_count": 22,
   "metadata": {},
   "outputs": [
    {
     "data": {
      "text/plain": [
       "'15 days, 11:15:35.990000'"
      ]
     },
     "execution_count": 22,
     "metadata": {},
     "output_type": "execute_result"
    }
   ],
   "source": [
    "from datetime import timedelta\n",
    "\n",
    "time_delta = timedelta(seconds=1336535.9899999974)\n",
    "str(time_delta)"
   ]
  },
  {
   "cell_type": "code",
   "execution_count": 23,
   "metadata": {},
   "outputs": [
    {
     "data": {
      "text/plain": [
       "371"
      ]
     },
     "execution_count": 23,
     "metadata": {},
     "output_type": "execute_result"
    }
   ],
   "source": [
    "15*24 + 11"
   ]
  },
  {
   "cell_type": "code",
   "execution_count": null,
   "metadata": {},
   "outputs": [],
   "source": [
    "\n"
   ]
  }
 ],
 "metadata": {
  "kernelspec": {
   "display_name": "env",
   "language": "python",
   "name": "python3"
  },
  "language_info": {
   "codemirror_mode": {
    "name": "ipython",
    "version": 3
   },
   "file_extension": ".py",
   "mimetype": "text/x-python",
   "name": "python",
   "nbconvert_exporter": "python",
   "pygments_lexer": "ipython3",
   "version": "3.10.14"
  }
 },
 "nbformat": 4,
 "nbformat_minor": 2
}
